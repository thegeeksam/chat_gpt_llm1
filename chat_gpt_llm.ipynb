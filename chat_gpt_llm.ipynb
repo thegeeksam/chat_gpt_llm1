{
 "cells": [
  {
   "cell_type": "code",
   "execution_count": 1,
   "metadata": {},
   "outputs": [
    {
     "name": "stdout",
     "output_type": "stream",
     "text": [
      "Requirement already satisfied: openai==0.28 in c:\\users\\sahaana venkat\\onedrive\\desktop\\worshop_march_2024\\workshop\\lib\\site-packages (0.28.0)\n",
      "Requirement already satisfied: requests>=2.20 in c:\\users\\sahaana venkat\\onedrive\\desktop\\worshop_march_2024\\workshop\\lib\\site-packages (from openai==0.28) (2.31.0)\n",
      "Requirement already satisfied: tqdm in c:\\users\\sahaana venkat\\onedrive\\desktop\\worshop_march_2024\\workshop\\lib\\site-packages (from openai==0.28) (4.66.2)\n",
      "Requirement already satisfied: aiohttp in c:\\users\\sahaana venkat\\onedrive\\desktop\\worshop_march_2024\\workshop\\lib\\site-packages (from openai==0.28) (3.9.3)\n",
      "Requirement already satisfied: charset-normalizer<4,>=2 in c:\\users\\sahaana venkat\\onedrive\\desktop\\worshop_march_2024\\workshop\\lib\\site-packages (from requests>=2.20->openai==0.28) (3.3.2)\n",
      "Requirement already satisfied: idna<4,>=2.5 in c:\\users\\sahaana venkat\\onedrive\\desktop\\worshop_march_2024\\workshop\\lib\\site-packages (from requests>=2.20->openai==0.28) (3.6)\n",
      "Requirement already satisfied: urllib3<3,>=1.21.1 in c:\\users\\sahaana venkat\\onedrive\\desktop\\worshop_march_2024\\workshop\\lib\\site-packages (from requests>=2.20->openai==0.28) (2.2.1)\n",
      "Requirement already satisfied: certifi>=2017.4.17 in c:\\users\\sahaana venkat\\onedrive\\desktop\\worshop_march_2024\\workshop\\lib\\site-packages (from requests>=2.20->openai==0.28) (2024.2.2)\n",
      "Requirement already satisfied: aiosignal>=1.1.2 in c:\\users\\sahaana venkat\\onedrive\\desktop\\worshop_march_2024\\workshop\\lib\\site-packages (from aiohttp->openai==0.28) (1.3.1)\n",
      "Requirement already satisfied: attrs>=17.3.0 in c:\\users\\sahaana venkat\\onedrive\\desktop\\worshop_march_2024\\workshop\\lib\\site-packages (from aiohttp->openai==0.28) (23.2.0)\n",
      "Requirement already satisfied: frozenlist>=1.1.1 in c:\\users\\sahaana venkat\\onedrive\\desktop\\worshop_march_2024\\workshop\\lib\\site-packages (from aiohttp->openai==0.28) (1.4.1)\n",
      "Requirement already satisfied: multidict<7.0,>=4.5 in c:\\users\\sahaana venkat\\onedrive\\desktop\\worshop_march_2024\\workshop\\lib\\site-packages (from aiohttp->openai==0.28) (6.0.5)\n",
      "Requirement already satisfied: yarl<2.0,>=1.0 in c:\\users\\sahaana venkat\\onedrive\\desktop\\worshop_march_2024\\workshop\\lib\\site-packages (from aiohttp->openai==0.28) (1.9.4)\n",
      "Requirement already satisfied: colorama in c:\\users\\sahaana venkat\\onedrive\\desktop\\worshop_march_2024\\workshop\\lib\\site-packages (from tqdm->openai==0.28) (0.4.6)\n"
     ]
    },
    {
     "name": "stderr",
     "output_type": "stream",
     "text": [
      "\n",
      "[notice] A new release of pip available: 22.3 -> 24.0\n",
      "[notice] To update, run: python.exe -m pip install --upgrade pip\n"
     ]
    }
   ],
   "source": [
    "!pip install openai==0.28\n"
   ]
  },
  {
   "cell_type": "code",
   "execution_count": null,
   "metadata": {},
   "outputs": [],
   "source": [
    "import openai"
   ]
  },
  {
   "cell_type": "code",
   "execution_count": null,
   "metadata": {},
   "outputs": [],
   "source": [
    "# Set up OpenAI API key\n",
    "openai.api_key = '<Paste API Key Here'"
   ]
  },
  {
   "cell_type": "code",
   "execution_count": null,
   "metadata": {},
   "outputs": [],
   "source": [
    "messages = [\n",
    "    {\"role\": \"system\", \"content\": \"You are a helpful and kind AI Assistant.\"},\n",
    "]"
   ]
  },
  {
   "cell_type": "code",
   "execution_count": null,
   "metadata": {},
   "outputs": [],
   "source": [
    "def chat_gpt_recommendation(input):\n",
    "    messages.append({\"role\": \"user\", \"content\": input})\n",
    "    chat = openai.ChatCompletion.create(\n",
    "    model=\"gpt-3.5-turbo\", messages=messages\n",
    "             )\n",
    "    reply = chat.choices[0].message.content\n",
    "    messages.append({\"role\": \"assistant\", \"content\": reply})\n",
    "    return reply"
   ]
  },
  {
   "cell_type": "code",
   "execution_count": null,
   "metadata": {},
   "outputs": [],
   "source": [
    "input=\"What is the capital Of India\"\n",
    "print(chat_gpt_recommendation(input=input))"
   ]
  }
 ],
 "metadata": {
  "kernelspec": {
   "display_name": "workshop",
   "language": "python",
   "name": "python3"
  },
  "language_info": {
   "codemirror_mode": {
    "name": "ipython",
    "version": 3
   },
   "file_extension": ".py",
   "mimetype": "text/x-python",
   "name": "python",
   "nbconvert_exporter": "python",
   "pygments_lexer": "ipython3",
   "version": "3.11.0"
  }
 },
 "nbformat": 4,
 "nbformat_minor": 2
}
